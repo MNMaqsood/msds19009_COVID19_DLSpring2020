{
  "nbformat": 4,
  "nbformat_minor": 0,
  "metadata": {
    "colab": {
      "name": "focal_loss resnet of assignment_5b_MS_DL.ipynb",
      "provenance": [],
      "collapsed_sections": [],
      "toc_visible": true,
      "machine_shape": "hm"
    },
    "kernelspec": {
      "name": "python3",
      "display_name": "Python 3"
    },
    "accelerator": "GPU",
    "widgets": {
      "application/vnd.jupyter.widget-state+json": {
        "a73f964e4e2447efb89d7666d82bb7b0": {
          "model_module": "@jupyter-widgets/controls",
          "model_name": "HBoxModel",
          "state": {
            "_view_name": "HBoxView",
            "_dom_classes": [],
            "_model_name": "HBoxModel",
            "_view_module": "@jupyter-widgets/controls",
            "_model_module_version": "1.5.0",
            "_view_count": null,
            "_view_module_version": "1.5.0",
            "box_style": "",
            "layout": "IPY_MODEL_073b7701d50048b287ee5e65ed60b98b",
            "_model_module": "@jupyter-widgets/controls",
            "children": [
              "IPY_MODEL_e4b250abd7d74a80acc5070a3633a743",
              "IPY_MODEL_3bd0d8d223274162aba7dbcee8681147"
            ]
          }
        },
        "073b7701d50048b287ee5e65ed60b98b": {
          "model_module": "@jupyter-widgets/base",
          "model_name": "LayoutModel",
          "state": {
            "_view_name": "LayoutView",
            "grid_template_rows": null,
            "right": null,
            "justify_content": null,
            "_view_module": "@jupyter-widgets/base",
            "overflow": null,
            "_model_module_version": "1.2.0",
            "_view_count": null,
            "flex_flow": null,
            "width": null,
            "min_width": null,
            "border": null,
            "align_items": null,
            "bottom": null,
            "_model_module": "@jupyter-widgets/base",
            "top": null,
            "grid_column": null,
            "overflow_y": null,
            "overflow_x": null,
            "grid_auto_flow": null,
            "grid_area": null,
            "grid_template_columns": null,
            "flex": null,
            "_model_name": "LayoutModel",
            "justify_items": null,
            "grid_row": null,
            "max_height": null,
            "align_content": null,
            "visibility": null,
            "align_self": null,
            "height": null,
            "min_height": null,
            "padding": null,
            "grid_auto_rows": null,
            "grid_gap": null,
            "max_width": null,
            "order": null,
            "_view_module_version": "1.2.0",
            "grid_template_areas": null,
            "object_position": null,
            "object_fit": null,
            "grid_auto_columns": null,
            "margin": null,
            "display": null,
            "left": null
          }
        },
        "e4b250abd7d74a80acc5070a3633a743": {
          "model_module": "@jupyter-widgets/controls",
          "model_name": "IntProgressModel",
          "state": {
            "_view_name": "ProgressView",
            "style": "IPY_MODEL_d00663842ed84f36922a9b69c96476de",
            "_dom_classes": [],
            "description": "100%",
            "_model_name": "IntProgressModel",
            "bar_style": "success",
            "max": 553433881,
            "_view_module": "@jupyter-widgets/controls",
            "_model_module_version": "1.5.0",
            "value": 553433881,
            "_view_count": null,
            "_view_module_version": "1.5.0",
            "orientation": "horizontal",
            "min": 0,
            "description_tooltip": null,
            "_model_module": "@jupyter-widgets/controls",
            "layout": "IPY_MODEL_348378c0c5604b20a417d2af02624e7a"
          }
        },
        "3bd0d8d223274162aba7dbcee8681147": {
          "model_module": "@jupyter-widgets/controls",
          "model_name": "HTMLModel",
          "state": {
            "_view_name": "HTMLView",
            "style": "IPY_MODEL_4aaac2538f7f4ea8a0540134de88249b",
            "_dom_classes": [],
            "description": "",
            "_model_name": "HTMLModel",
            "placeholder": "​",
            "_view_module": "@jupyter-widgets/controls",
            "_model_module_version": "1.5.0",
            "value": " 528M/528M [00:33&lt;00:00, 16.5MB/s]",
            "_view_count": null,
            "_view_module_version": "1.5.0",
            "description_tooltip": null,
            "_model_module": "@jupyter-widgets/controls",
            "layout": "IPY_MODEL_047d53907c6b4dbd840ea2809136873e"
          }
        },
        "d00663842ed84f36922a9b69c96476de": {
          "model_module": "@jupyter-widgets/controls",
          "model_name": "ProgressStyleModel",
          "state": {
            "_view_name": "StyleView",
            "_model_name": "ProgressStyleModel",
            "description_width": "initial",
            "_view_module": "@jupyter-widgets/base",
            "_model_module_version": "1.5.0",
            "_view_count": null,
            "_view_module_version": "1.2.0",
            "bar_color": null,
            "_model_module": "@jupyter-widgets/controls"
          }
        },
        "348378c0c5604b20a417d2af02624e7a": {
          "model_module": "@jupyter-widgets/base",
          "model_name": "LayoutModel",
          "state": {
            "_view_name": "LayoutView",
            "grid_template_rows": null,
            "right": null,
            "justify_content": null,
            "_view_module": "@jupyter-widgets/base",
            "overflow": null,
            "_model_module_version": "1.2.0",
            "_view_count": null,
            "flex_flow": null,
            "width": null,
            "min_width": null,
            "border": null,
            "align_items": null,
            "bottom": null,
            "_model_module": "@jupyter-widgets/base",
            "top": null,
            "grid_column": null,
            "overflow_y": null,
            "overflow_x": null,
            "grid_auto_flow": null,
            "grid_area": null,
            "grid_template_columns": null,
            "flex": null,
            "_model_name": "LayoutModel",
            "justify_items": null,
            "grid_row": null,
            "max_height": null,
            "align_content": null,
            "visibility": null,
            "align_self": null,
            "height": null,
            "min_height": null,
            "padding": null,
            "grid_auto_rows": null,
            "grid_gap": null,
            "max_width": null,
            "order": null,
            "_view_module_version": "1.2.0",
            "grid_template_areas": null,
            "object_position": null,
            "object_fit": null,
            "grid_auto_columns": null,
            "margin": null,
            "display": null,
            "left": null
          }
        },
        "4aaac2538f7f4ea8a0540134de88249b": {
          "model_module": "@jupyter-widgets/controls",
          "model_name": "DescriptionStyleModel",
          "state": {
            "_view_name": "StyleView",
            "_model_name": "DescriptionStyleModel",
            "description_width": "",
            "_view_module": "@jupyter-widgets/base",
            "_model_module_version": "1.5.0",
            "_view_count": null,
            "_view_module_version": "1.2.0",
            "_model_module": "@jupyter-widgets/controls"
          }
        },
        "047d53907c6b4dbd840ea2809136873e": {
          "model_module": "@jupyter-widgets/base",
          "model_name": "LayoutModel",
          "state": {
            "_view_name": "LayoutView",
            "grid_template_rows": null,
            "right": null,
            "justify_content": null,
            "_view_module": "@jupyter-widgets/base",
            "overflow": null,
            "_model_module_version": "1.2.0",
            "_view_count": null,
            "flex_flow": null,
            "width": null,
            "min_width": null,
            "border": null,
            "align_items": null,
            "bottom": null,
            "_model_module": "@jupyter-widgets/base",
            "top": null,
            "grid_column": null,
            "overflow_y": null,
            "overflow_x": null,
            "grid_auto_flow": null,
            "grid_area": null,
            "grid_template_columns": null,
            "flex": null,
            "_model_name": "LayoutModel",
            "justify_items": null,
            "grid_row": null,
            "max_height": null,
            "align_content": null,
            "visibility": null,
            "align_self": null,
            "height": null,
            "min_height": null,
            "padding": null,
            "grid_auto_rows": null,
            "grid_gap": null,
            "max_width": null,
            "order": null,
            "_view_module_version": "1.2.0",
            "grid_template_areas": null,
            "object_position": null,
            "object_fit": null,
            "grid_auto_columns": null,
            "margin": null,
            "display": null,
            "left": null
          }
        }
      }
    }
  },
  "cells": [
    {
      "cell_type": "code",
      "metadata": {
        "id": "EgYGGVBeq9es",
        "colab_type": "code",
        "colab": {}
      },
      "source": [
        "from google.colab import drive\n",
        "drive.mount('drive')\n",
        "# %cd /gdrive"
      ],
      "execution_count": 0,
      "outputs": []
    },
    {
      "cell_type": "markdown",
      "metadata": {
        "id": "oIC1p895ofOk",
        "colab_type": "text"
      },
      "source": [
        "# Imports"
      ]
    },
    {
      "cell_type": "code",
      "metadata": {
        "id": "imXV6aopZpvE",
        "colab_type": "code",
        "colab": {}
      },
      "source": [
        "import torch\n",
        "import torch.nn as nn\n",
        "import torch.optim as optim\n",
        "from torch.optim import lr_scheduler\n",
        "from torch.autograd import Variable\n",
        "import numpy as np\n",
        "import torchvision\n",
        "from torchvision import datasets, models, transforms\n",
        "import matplotlib.pyplot as plt\n",
        "import time\n",
        "import os\n",
        "import copy\n",
        "import cv2\n",
        "from PIL import Image"
      ],
      "execution_count": 0,
      "outputs": []
    },
    {
      "cell_type": "code",
      "metadata": {
        "id": "uE-6aF0yt0zG",
        "colab_type": "code",
        "colab": {}
      },
      "source": [
        "parent_dir = \"drive/My Drive/MSDS_DL/assignment_5b/\"\n",
        "data_dir = parent_dir + \"data/A_05_Part_02_Dataset/\"\n",
        "weights_dir = parent_dir + \"weights/\"\n",
        "device = torch.device(\"cuda:0\" if torch.cuda.is_available() else \"cpu\")"
      ],
      "execution_count": 0,
      "outputs": []
    },
    {
      "cell_type": "markdown",
      "metadata": {
        "id": "Xv1dVuNGZnuZ",
        "colab_type": "text"
      },
      "source": [
        "# Find Mean and std of train,valid and test"
      ]
    },
    {
      "cell_type": "code",
      "metadata": {
        "id": "4XCtUz5DUApp",
        "colab_type": "code",
        "colab": {}
      },
      "source": [
        "train_dirs = os.listdir(data_dir+'Train/')\n",
        "train_imgs = []\n",
        "for d in train_dirs:\n",
        "  files = os.listdir(data_dir+\"Train/\"+d)\n",
        "  for f in files:\n",
        "    if f.endswith('.png') or f.endswith('.jpg'):\n",
        "      img = Image.open(data_dir+\"Train/\"+d+\"/\"+f)\n",
        "      img = img.resize(size=(256,256), resample=Image.LANCZOS)\n",
        "      img = np.array(img)\n",
        "      train_imgs.append(img)\n",
        "len(train_imgs)"
      ],
      "execution_count": 0,
      "outputs": []
    },
    {
      "cell_type": "code",
      "metadata": {
        "id": "ZoUAyZcbUCup",
        "colab_type": "code",
        "outputId": "ebaed8a5-cca4-485c-ed18-3b79b0f22eed",
        "colab": {
          "base_uri": "https://localhost:8080/",
          "height": 34
        }
      },
      "source": [
        "valid_dirs = os.listdir(data_dir+'Validation/')\n",
        "valid_imgs = []\n",
        "for d in valid_dirs:\n",
        "  files = os.listdir(data_dir+\"Validation/\"+d)\n",
        "  for f in files:\n",
        "    if f.endswith('.png') or f.endswith('.jpg'):\n",
        "      img = Image.open(data_dir+\"Validation/\"+d+\"/\"+f)\n",
        "      img = img.resize(size=(256,256), resample=Image.LANCZOS)\n",
        "      img = np.array(img)\n",
        "      valid_imgs.append(img)\n",
        "len(valid_imgs)"
      ],
      "execution_count": 0,
      "outputs": [
        {
          "output_type": "execute_result",
          "data": {
            "text/plain": [
              "623"
            ]
          },
          "metadata": {
            "tags": []
          },
          "execution_count": 187
        }
      ]
    },
    {
      "cell_type": "code",
      "metadata": {
        "id": "IU7Wo40V1KRL",
        "colab_type": "code",
        "colab": {}
      },
      "source": [
        "test_files = os.listdir(data_dir+'Test/test')\n",
        "test_imgs = []\n",
        "test_img_labels =  []\n",
        "for f in test_files:\n",
        "  if f.endswith('.png') or f.endswith('.jpg'):\n",
        "    img = Image.open(data_dir+\"Test/test/\"+f)\n",
        "    img = img.resize(size=(256,256), resample=Image.LANCZOS)\n",
        "    img = np.array(img)\n",
        "    test_imgs.append(img)\n",
        "    test_img_labels.append(f)"
      ],
      "execution_count": 0,
      "outputs": []
    },
    {
      "cell_type": "code",
      "metadata": {
        "id": "9FX9U_FSlMVj",
        "colab_type": "code",
        "colab": {
          "base_uri": "https://localhost:8080/",
          "height": 34
        },
        "outputId": "01876865-8ff0-4019-ba22-29269f7c52b4"
      },
      "source": [
        "len(test_img_labels)"
      ],
      "execution_count": 24,
      "outputs": [
        {
          "output_type": "execute_result",
          "data": {
            "text/plain": [
              "629"
            ]
          },
          "metadata": {
            "tags": []
          },
          "execution_count": 24
        }
      ]
    },
    {
      "cell_type": "code",
      "metadata": {
        "id": "u1qZDImoVLgf",
        "colab_type": "code",
        "colab": {}
      },
      "source": [
        "count = 1\n",
        "for i,img in enumerate(train_imgs):\n",
        "  if img.ndim >2:\n",
        "    print(f\"{count}: {i} image has {img.ndim} and shape {img.shape}\")\n",
        "    count +=1\n",
        "    train_imgs[i] = img[:,:,0]"
      ],
      "execution_count": 0,
      "outputs": []
    },
    {
      "cell_type": "code",
      "metadata": {
        "id": "2Yp7tbYzVemo",
        "colab_type": "code",
        "colab": {}
      },
      "source": [
        "count = 1\n",
        "for i,img in enumerate(valid_imgs):\n",
        "  if img.ndim >2:\n",
        "    print(f\"{count}: {i} image has {img.ndim} and shape {img.shape}\")\n",
        "    count +=1\n",
        "    valid_imgs[i] = img[:,:,0]"
      ],
      "execution_count": 0,
      "outputs": []
    },
    {
      "cell_type": "code",
      "metadata": {
        "id": "wrfNVaSZUGev",
        "colab_type": "code",
        "colab": {
          "base_uri": "https://localhost:8080/",
          "height": 493
        },
        "outputId": "00ddc8cf-ef0f-4ae8-99a3-f3a850863383"
      },
      "source": [
        "count = 1\n",
        "for i,img in enumerate(test_imgs):\n",
        "  if img.ndim >2:\n",
        "    print(f\"{count}: {i} image has {img.ndim} and shape {img.shape}\")\n",
        "    count +=1\n",
        "    test_imgs[i] = img[:,:,0]\n",
        "\n",
        "  test_imgs[i] = np.stack((test_imgs[i],)*3,axis=0)\n"
      ],
      "execution_count": 25,
      "outputs": [
        {
          "output_type": "stream",
          "text": [
            "1: 0 image has 3 and shape (256, 256, 3)\n",
            "2: 1 image has 3 and shape (256, 256, 3)\n",
            "3: 2 image has 3 and shape (256, 256, 3)\n",
            "4: 3 image has 3 and shape (256, 256, 3)\n",
            "5: 4 image has 3 and shape (256, 256, 3)\n",
            "6: 5 image has 3 and shape (256, 256, 3)\n",
            "7: 6 image has 3 and shape (256, 256, 3)\n",
            "8: 7 image has 3 and shape (256, 256, 3)\n",
            "9: 8 image has 3 and shape (256, 256, 4)\n",
            "10: 9 image has 3 and shape (256, 256, 3)\n",
            "11: 11 image has 3 and shape (256, 256, 3)\n",
            "12: 12 image has 3 and shape (256, 256, 3)\n",
            "13: 13 image has 3 and shape (256, 256, 3)\n",
            "14: 14 image has 3 and shape (256, 256, 3)\n",
            "15: 15 image has 3 and shape (256, 256, 3)\n",
            "16: 16 image has 3 and shape (256, 256, 4)\n",
            "17: 17 image has 3 and shape (256, 256, 3)\n",
            "18: 18 image has 3 and shape (256, 256, 3)\n",
            "19: 19 image has 3 and shape (256, 256, 3)\n",
            "20: 20 image has 3 and shape (256, 256, 3)\n",
            "21: 21 image has 3 and shape (256, 256, 3)\n",
            "22: 22 image has 3 and shape (256, 256, 3)\n",
            "23: 23 image has 3 and shape (256, 256, 3)\n",
            "24: 24 image has 3 and shape (256, 256, 3)\n",
            "25: 25 image has 3 and shape (256, 256, 3)\n",
            "26: 26 image has 3 and shape (256, 256, 3)\n",
            "27: 27 image has 3 and shape (256, 256, 3)\n",
            "28: 28 image has 3 and shape (256, 256, 3)\n"
          ],
          "name": "stdout"
        }
      ]
    },
    {
      "cell_type": "code",
      "metadata": {
        "id": "wjcNIhL16h6f",
        "colab_type": "code",
        "outputId": "54ca5ef2-294e-4adf-f8d2-9c086a3329e0",
        "colab": {
          "base_uri": "https://localhost:8080/",
          "height": 68
        }
      },
      "source": [
        "train_mean = np.mean(train_imgs)\n",
        "train_std = np.std(train_imgs)\n",
        "print(f\"Train mean {train_mean} train_std {train_std}\")\n",
        "\n",
        "valid_mean = np.mean(valid_imgs)\n",
        "valid_std = np.std(valid_imgs)\n",
        "print(f\"Train mean {valid_mean} train_std {valid_std}\")\n",
        "\n",
        "test_mean = np.mean(test_imgs)\n",
        "test_std = np.std(test_imgs)\n",
        "print(f\"test mean {test_mean} test_std {test_std}\")"
      ],
      "execution_count": 0,
      "outputs": [
        {
          "output_type": "stream",
          "text": [
            "Train mean 125.38420718934697 train_std 63.397660193282846\n",
            "Train mean 125.60233139111563 train_std 63.88390271414833\n",
            "test mean 125.95635117862865 test_std 64.98013607359859\n"
          ],
          "name": "stdout"
        }
      ]
    },
    {
      "cell_type": "code",
      "metadata": {
        "id": "ahcBhzkH-auC",
        "colab_type": "code",
        "outputId": "fe737053-9daa-49f0-84c6-ef0e6bc17131",
        "colab": {
          "base_uri": "https://localhost:8080/",
          "height": 68
        }
      },
      "source": [
        "print(f\"Train mean {train_mean/255} train_std {train_std/255}\")\n",
        "print(f\"Valid mean {valid_mean/255} valid_std {valid_std/255}\")\n",
        "print(f\"test mean {test_mean/255} test_std {test_std/255}\")"
      ],
      "execution_count": 0,
      "outputs": [
        {
          "output_type": "stream",
          "text": [
            "Train mean 0.4917027732915567 train_std 0.24861827526777586\n",
            "Train mean 0.4925581623181005 train_std 0.2505251086829346\n",
            "test mean 0.49394647521030843 test_std 0.25482406303371996\n"
          ],
          "name": "stdout"
        }
      ]
    },
    {
      "cell_type": "markdown",
      "metadata": {
        "id": "o1g2dpqM-7nc",
        "colab_type": "text"
      },
      "source": [
        "# Input Pipeline"
      ]
    },
    {
      "cell_type": "code",
      "metadata": {
        "id": "sPYN8otnhSJl",
        "colab_type": "code",
        "colab": {}
      },
      "source": [
        "class int_to_multilabel(object):\n",
        "  \"\"\"convert int to multilabel one hot vector\"\"\"\n",
        "  def __init__(self,no_of_classes=3,multilabel={0:[0,2]}):\n",
        "    self.no_of_classes = no_of_classes\n",
        "    self.multilabel = multilabel\n",
        "\n",
        "  def __call__(self,label_int):\n",
        "    output = torch.zeros(self.no_of_classes)\n",
        "\n",
        "    assert label_int < self.no_of_classes, \"input int_label should be less than no. of classes\"\n",
        "    output[label_int] = 1\n",
        "\n",
        "    for K,V in self.multilabel.items():\n",
        "      if label_int == K:\n",
        "        output[V] = 1\n",
        "        break \n",
        "    return output"
      ],
      "execution_count": 0,
      "outputs": []
    },
    {
      "cell_type": "code",
      "metadata": {
        "id": "6lg2FpaqWw_D",
        "colab_type": "code",
        "colab": {}
      },
      "source": [
        "train_transform = transforms.Compose(\n",
        "                        [transforms.Resize(size = (256,256), interpolation=Image.LANCZOS),\n",
        "                        transforms.RandomHorizontalFlip(),\n",
        "                        transforms.RandomRotation(30),\n",
        "                        # transforms.RandomResizedCrop(224),\n",
        "                        transforms.ToTensor(),\n",
        "                        transforms.Normalize([0.4917], [0.2486])])\n",
        "\n",
        "valid_transform = transforms.Compose(\n",
        "                        [transforms.Resize(size = (256,256), interpolation=Image.LANCZOS),\n",
        "                        transforms.RandomHorizontalFlip(),\n",
        "                        transforms.RandomRotation(30),\n",
        "                        # transforms.RandomResizedCrop(224),\n",
        "                        transforms.ToTensor(),\n",
        "                        transforms.Normalize([0.4926], [0.2505])])\n",
        "\n",
        "test_transform = transforms.Compose(\n",
        "                        [transforms.Resize(size = (256,256), interpolation=Image.LANCZOS),\n",
        "                        transforms.RandomHorizontalFlip(),\n",
        "                        transforms.RandomRotation(30),\n",
        "                        # transforms.RandomResizedCrop(224),\n",
        "                        transforms.ToTensor(),\n",
        "                        transforms.Normalize([0.4940], [0.2548])])"
      ],
      "execution_count": 0,
      "outputs": []
    },
    {
      "cell_type": "code",
      "metadata": {
        "id": "UBGepsolZ6la",
        "colab_type": "code",
        "colab": {}
      },
      "source": [
        "train_data = datasets.ImageFolder(root = data_dir+'Train',transform = train_transform,target_transform = int_to_multilabel())\n",
        "valid_data = datasets.ImageFolder(root = data_dir+'Validation',transform = train_transform,target_transform = int_to_multilabel())\n",
        "test_data = datasets.ImageFolder(root = data_dir+'Test',transform = test_transform)"
      ],
      "execution_count": 0,
      "outputs": []
    },
    {
      "cell_type": "markdown",
      "metadata": {
        "id": "fmysTeSBzxXF",
        "colab_type": "text"
      },
      "source": [
        "# Data Loaders"
      ]
    },
    {
      "cell_type": "code",
      "metadata": {
        "id": "YHTMvBPVpmcQ",
        "colab_type": "code",
        "outputId": "d4ddb9fa-a55a-45c1-92ac-1a37f132e9da",
        "colab": {
          "base_uri": "https://localhost:8080/",
          "height": 51
        }
      },
      "source": [
        "trainloader = torch.utils.data.DataLoader(train_data, batch_size=64, shuffle=True,num_workers=4)\n",
        "# trainloader = torch.utils.data.DataLoader(train_data, batch_size=4, shuffle=True)\n",
        "validloader = torch.utils.data.DataLoader(valid_data, batch_size=64, shuffle=True,num_workers=4)\n",
        "# validloader = torch.utils.data.DataLoader(valid_data, batch_size=32, shuffle=True)\n",
        "testloader = torch.utils.data.DataLoader(test_data, batch_size=150, shuffle=True,num_workers=4)\n",
        "# testloader = torch.utils.data.DataLoader(test_data, batch_size=32, shuffle=True)\n",
        "\n",
        "print(\"Classes: \")\n",
        "class_names = train_data.classes\n",
        "print(class_names)"
      ],
      "execution_count": 11,
      "outputs": [
        {
          "output_type": "stream",
          "text": [
            "Classes: \n",
            "['covid', 'normal', 'pneumonia']\n"
          ],
          "name": "stdout"
        }
      ]
    },
    {
      "cell_type": "markdown",
      "metadata": {
        "id": "yerLdGr1d0tW",
        "colab_type": "text"
      },
      "source": [
        "# Helper Functions"
      ]
    },
    {
      "cell_type": "code",
      "metadata": {
        "id": "2Z5UW_oEd5NO",
        "colab_type": "code",
        "colab": {}
      },
      "source": [
        "from sklearn.metrics import f1_score,accuracy_score\n",
        "from sklearn.metrics import confusion_matrix,multilabel_confusion_matrix\n",
        "\n",
        "def plot_confusion_matrix(confusion,classes=None, title='Confusion matrix', cmap=plt.cm.gray_r):\n",
        "    ##X-axis is predicted and y_asix is true\n",
        "    import seaborn as sn\n",
        "    import pandas as pd\n",
        "    import matplotlib.pyplot as plt\n",
        "    if classes is not None:\n",
        "      df_cm = pd.DataFrame(confusion, classes, classes)\n",
        "    else :\n",
        "      df_cm = pd.DataFrame(confusion, range(len(confusion)), range(len(confusion)))\n",
        "    # plt.figure(figsize=(10,7))\n",
        "    sn.set(font_scale=1.4) # for label size\n",
        "    sn.heatmap(df_cm, annot=True, annot_kws={\"size\": 16}) # font size\n",
        "    plt.title(title)\n",
        "\n",
        "    plt.savefig(\"confusion_matrix\")\n",
        "    plt.show()\n",
        "\n",
        "def evaluate(model,loss_function,data_loader,device):\n",
        "  model.eval()\n",
        "  loss = 0\n",
        "  accuracy = 0\n",
        "\n",
        "  with torch.no_grad():\n",
        "    for i,data in enumerate(data_loader):\n",
        "      inputs,labels = data\n",
        "      N,C = labels.shape\n",
        "      inputs,labels = inputs.to(device),labels.to(device)\n",
        "      outputs = model(inputs)\n",
        "      loss += loss_function(outputs,labels).item()\n",
        "      outputs[outputs >= 0.5] = 1\n",
        "      outputs[outputs < 0.5] = 0\n",
        "      accuracy += (outputs == labels).sum().item()/(N*C)*100\n",
        "  return loss/len(data_loader),accuracy/len(data_loader)\n",
        "\n",
        "def calc_accuracy(prediction,target):\n",
        "  N,C = target.shape\n",
        "  accuracy = (prediction == target).sum()/(N*C) * 100\n",
        "  return accuracy\n",
        "\n",
        "def predict(model,data_loader,device):\n",
        "  model.to(device)\n",
        "  # sigmoid_function = nn.Sigmoid()\n",
        "  model.eval()\n",
        "  num_elements = len(data_loader.dataset)\n",
        "  predictions = torch.zeros((num_elements,3))\n",
        "  all_labels = torch.zeros((num_elements,3))\n",
        "  num_batches = len(data_loader)\n",
        "  batch_size = data_loader.batch_size\n",
        "\n",
        "  with torch.no_grad():\n",
        "    for i,data in enumerate(data_loader):\n",
        "      start = i*batch_size\n",
        "      end = start + batch_size\n",
        "      if i == num_batches - 1:\n",
        "          end = num_elements\n",
        "\n",
        "      inputs,labels = data\n",
        "      inputs,labels = inputs.to(device),labels.to(device)\n",
        "      outputs = model(inputs)\n",
        "      # outputs = sigmoid_function(outputs)\n",
        "      # _, pred = torch.max(outputs.data, 1)\n",
        "      outputs[outputs >= 0.5] =1\n",
        "      outputs[outputs < 0.5] = 0\n",
        "      # _, predicted = torch.max(outputs.data, 1)\n",
        "      predictions[start:end] = outputs\n",
        "      all_labels[start:end] = labels\n",
        "  return all_labels.cpu().data.numpy(),predictions.cpu().data.numpy()\n",
        "\n",
        "def calc_f1_score(prediction,target):\n",
        "  p = np.logical_and(prediction == target, prediction == 1).sum() / prediction.sum() * 100\n",
        "  r = np.logical_and(prediction == target, prediction == 1).sum().sum() / target.sum() * 100\n",
        "\n",
        "  f1 = (2 * p * r)/ (p+r)\n",
        "  return f1"
      ],
      "execution_count": 0,
      "outputs": []
    },
    {
      "cell_type": "markdown",
      "metadata": {
        "id": "JXlnuciOWLF6",
        "colab_type": "text"
      },
      "source": [
        "# Custom BCE Loss"
      ]
    },
    {
      "cell_type": "code",
      "metadata": {
        "colab_type": "code",
        "id": "RO-8jZBlWKIq",
        "colab": {}
      },
      "source": [
        "def multilabel_BCELoss(prediction,label):\n",
        "  \"\"\"prediction are probabilities\"\"\"\n",
        "  device = torch.device(\"cuda:0\" if torch.cuda.is_available() else \"cpu\")\n",
        "\n",
        "  prob_power = prediction ** label\n",
        "  exp50 = torch.ones(label.shape) * torch.exp(torch.tensor([50],dtype=torch.float32))\n",
        "  exp50 = exp50.to(device) \n",
        "  prob = torch.where(prob_power == 0,exp50,prob_power) # replacing 0 with exp(50) for numerical stability\n",
        "  log_prob = - torch.log(prob)\n",
        "  alpha = torch.tensor([1,0.05,0.1]).to(device) #weights covid, normal, pneumonia\n",
        "  log_prob = log_prob * alpha\n",
        "  loss = torch.sum(log_prob,axis=1)\n",
        "  return torch.mean(loss)"
      ],
      "execution_count": 0,
      "outputs": []
    },
    {
      "cell_type": "markdown",
      "metadata": {
        "id": "yyE15yKQWOXc",
        "colab_type": "text"
      },
      "source": [
        "# focal loss"
      ]
    },
    {
      "cell_type": "code",
      "metadata": {
        "colab_type": "code",
        "id": "Ae3hdfSqWKI8",
        "colab": {}
      },
      "source": [
        "def focal_loss(prediction,label,is_alpha_balanced = True):\n",
        "  device = torch.device(\"cuda:0\" if torch.cuda.is_available() else \"cpu\")\n",
        "  gamma = torch.tensor([2]).to(device)\n",
        "  alpha = torch.tensor([1,0.05,0.1]).to(device) #weights covid, normal, pneumonia\n",
        "\n",
        "  prob_power = prediction ** label\n",
        "  exp50 = torch.ones(label.shape) * torch.exp(torch.tensor([50],dtype=torch.float32))\n",
        "  exp50 = exp50.to(device) \n",
        "  prob = torch.where(prob_power == 0,exp50,prob_power) # replacing 0 with exp(50) for numerical stability\n",
        "  one_minus_prob = torch.ones_like(prob).to(device)\n",
        "  one_minus_prob = one_minus_prob - prob\n",
        "  log_prob = - torch.log(prob)\n",
        "  if is_alpha_balanced:\n",
        "    loss = alpha * (one_minus_prob ** gamma) * log_prob\n",
        "  else:\n",
        "    loss = (one_minus_prob ** gamma) * log_prob\n",
        "  loss = torch.sum(loss,axis=1)\n",
        "  return torch.mean(loss)\n"
      ],
      "execution_count": 0,
      "outputs": []
    },
    {
      "cell_type": "code",
      "metadata": {
        "id": "BI8c6JP7fLge",
        "colab_type": "code",
        "colab": {}
      },
      "source": [
        "bce_loss = nn.BCELoss(reduction='none')\n",
        "def focal_loss_predefined(prediction,label):\n",
        "  device = torch.device(\"cuda:0\" if torch.cuda.is_available() else \"cpu\")\n",
        "  gamma = torch.tensor([2]).to(device)\n",
        "  alpha = torch.tensor([1,0.05,0.1]).to(device) #weights covid, normal, pneumonia\n",
        " # replacing 0 with exp(50) for numerical stability\n",
        "  BC_Loss = bce_loss(prediction,label)\n",
        "  prob = torch.exp(-BC_Loss)\n",
        "  one_minus_prob = torch.ones_like(prob).to(device)\n",
        "  one_minus_prob = one_minus_prob - prob\n",
        "  # log_prob = - torch.log(prob)\n",
        "  \n",
        "  loss = alpha * (one_minus_prob ** gamma) * BC_Loss\n",
        "\n",
        "  loss = torch.sum(loss,axis=1)\n",
        "  return torch.mean(loss)"
      ],
      "execution_count": 0,
      "outputs": []
    },
    {
      "cell_type": "markdown",
      "metadata": {
        "id": "oCAek8_d3QM8",
        "colab_type": "text"
      },
      "source": [
        "# Train function"
      ]
    },
    {
      "cell_type": "code",
      "metadata": {
        "id": "J5wpbHt93POC",
        "colab_type": "code",
        "colab": {}
      },
      "source": [
        "def train(model,train_loader,opt,loss_function,epochs,valid_loader=None, weight_save_path = None,batch_info=True,dot_after_batch=5,asterik_after_batch=20):\n",
        "  # from tqdm import tqdm\n",
        "  import time\n",
        "  #if you have gpu then you need to convert the network and data to cuda\n",
        "  #the easiest way is to first check for device and then convert network and data to device\n",
        "  device = torch.device(\"cuda:0\" if torch.cuda.is_available() else \"cpu\")\n",
        "  \n",
        "  model.to(device)\n",
        "  \n",
        "  epoch_loss_list = []\n",
        "  epoch_accuracy_list = []\n",
        "  valid_loss_list = []\n",
        "  valid_accuracy_list = []\n",
        "\n",
        "  for epoch in range(epochs):  # loop over the dataset multiple times\n",
        "      tic = time.time()\n",
        "      model.train()\n",
        "      running_loss = 0.0\n",
        "      running_accuracy = 0.0\n",
        "      # pbar = tqdm(enumerate(train_loader))\n",
        "      # for i, data in pbar:\n",
        "      for i, data in enumerate(train_loader):\n",
        "          # get the inputs\n",
        "          # with torch.autograd.set_detect_anomaly(True):\n",
        "\n",
        "          inputs, labels = data\n",
        "          inputs, labels = inputs.to(device), labels.to(device)\n",
        "          \n",
        "          opt.zero_grad()\n",
        "          # In PyTorch, we need to set the gradients to zero before starting to do backpropragation \n",
        "          # because PyTorch accumulates the gradients on subsequent backward passes. \n",
        "          # This is convenient while training RNNs. \n",
        "          # So, the default action is to accumulate the gradients on every loss.backward() call\n",
        "\n",
        "          # forward + backward + optimize\n",
        "          outputs = model(inputs)               #----> forward pass\n",
        "          # print(outputs)\n",
        "          loss = loss_function(outputs, labels)   #----> compute loss\n",
        "          # loss = multilabel_BCELoss(outputs,labels)\n",
        "          # print(f\"Loss sahpe is {loss.shape}\")\n",
        "          # print(f\"loss is {loss}\")\n",
        "          loss.backward()                     #----> backward pass\n",
        "          opt.step()                    #----> weights update\n",
        "\n",
        "          # print statistics\n",
        "          running_loss += loss.item()\n",
        "          N,C = labels.shape\n",
        "          # print(f\"output before thresholding\")\n",
        "          # print(outputs)\n",
        "          outputs[outputs >= 0.5] = 1\n",
        "          # print(f\"output after 1 thresholding\")\n",
        "          # print(outputs)\n",
        "          outputs[outputs < 0.5] = 0\n",
        "          # print(f\"output after 0 thresholding\")\n",
        "          # print(outputs)\n",
        "          running_accuracy += (outputs == labels).sum().item()/(N*C) *100\n",
        "\n",
        "          # pbar.set_description(f\"Train Epoch: {epoch} [{i * len(inputs)}/{len(train_loader.dataset)}\\\n",
        "          #                     {100. * i / len(train_loader):.0f}%)]\\tLoss: {loss.item():.4f}\\taccuracy:{correct/total:.3f}\")\n",
        "          if batch_info:\n",
        "            if (i+1) % asterik_after_batch == 0:\n",
        "              print(\"*\",end=' ')\n",
        "            elif (i+1) % dot_after_batch == 0:\n",
        "              print(\".\",end=' ')\n",
        "      print()\n",
        "      epoch_loss_list.append(running_loss / len(train_loader))\n",
        "      epoch_accuracy_list.append(running_accuracy/len(train_loader))\n",
        "\n",
        "      if valid_loader is not None:\n",
        "        valid_loss,valid_acc = evaluate(model,loss_function,valid_loader,device)\n",
        "        valid_loss_list.append(valid_loss)\n",
        "        valid_accuracy_list.append(valid_acc)\n",
        "        toc = time.time()\n",
        "        print(f\"Epoch: {epoch} train_loss:{running_loss / len(train_loader):.4f}   train_acc:{running_accuracy/len(train_loader):.3f}   valid_loss:{valid_loss:.4f}   valid_acc:{valid_acc:.3f} time-taken:{(toc-tic)/60:.3f}m\")\n",
        "      else:\n",
        "\n",
        "        print(f\"Epoch: {epoch} train_loss:{running_loss / len(train_loader):.4f}   train_acc:{running_accuracy/len(train_loader):.3f}\")\n",
        "      if weight_save_path is not None:\n",
        "        torch.save(model.state_dict(), weight_save_path)\n",
        "\n",
        "  print('Finished Training')\n",
        "  if valid_loader is not None:\n",
        "    return epoch_loss_list,epoch_accuracy_list,valid_loss_list,valid_accuracy_list\n",
        "  else:\n",
        "    return epoch_loss_list,epoch_accuracy_list"
      ],
      "execution_count": 0,
      "outputs": []
    },
    {
      "cell_type": "markdown",
      "metadata": {
        "id": "OP3pUmMUzo2n",
        "colab_type": "text"
      },
      "source": [
        "# Vgg"
      ]
    },
    {
      "cell_type": "code",
      "metadata": {
        "id": "M3qDyOO55iqi",
        "colab_type": "code",
        "outputId": "fdcf9e38-7b7b-4978-e03e-0cf5316c5901",
        "colab": {
          "base_uri": "https://localhost:8080/",
          "height": 848,
          "referenced_widgets": [
            "a73f964e4e2447efb89d7666d82bb7b0",
            "073b7701d50048b287ee5e65ed60b98b",
            "e4b250abd7d74a80acc5070a3633a743",
            "3bd0d8d223274162aba7dbcee8681147",
            "d00663842ed84f36922a9b69c96476de",
            "348378c0c5604b20a417d2af02624e7a",
            "4aaac2538f7f4ea8a0540134de88249b",
            "047d53907c6b4dbd840ea2809136873e"
          ]
        }
      },
      "source": [
        "vgg16 = models.vgg16(pretrained=True)\n",
        "print(vgg16)"
      ],
      "execution_count": 111,
      "outputs": [
        {
          "output_type": "stream",
          "text": [
            "Downloading: \"https://download.pytorch.org/models/vgg16-397923af.pth\" to /root/.cache/torch/checkpoints/vgg16-397923af.pth\n"
          ],
          "name": "stderr"
        },
        {
          "output_type": "display_data",
          "data": {
            "application/vnd.jupyter.widget-view+json": {
              "model_id": "a73f964e4e2447efb89d7666d82bb7b0",
              "version_minor": 0,
              "version_major": 2
            },
            "text/plain": [
              "HBox(children=(IntProgress(value=0, max=553433881), HTML(value='')))"
            ]
          },
          "metadata": {
            "tags": []
          }
        },
        {
          "output_type": "stream",
          "text": [
            "\n",
            "VGG(\n",
            "  (features): Sequential(\n",
            "    (0): Conv2d(3, 64, kernel_size=(3, 3), stride=(1, 1), padding=(1, 1))\n",
            "    (1): ReLU(inplace=True)\n",
            "    (2): Conv2d(64, 64, kernel_size=(3, 3), stride=(1, 1), padding=(1, 1))\n",
            "    (3): ReLU(inplace=True)\n",
            "    (4): MaxPool2d(kernel_size=2, stride=2, padding=0, dilation=1, ceil_mode=False)\n",
            "    (5): Conv2d(64, 128, kernel_size=(3, 3), stride=(1, 1), padding=(1, 1))\n",
            "    (6): ReLU(inplace=True)\n",
            "    (7): Conv2d(128, 128, kernel_size=(3, 3), stride=(1, 1), padding=(1, 1))\n",
            "    (8): ReLU(inplace=True)\n",
            "    (9): MaxPool2d(kernel_size=2, stride=2, padding=0, dilation=1, ceil_mode=False)\n",
            "    (10): Conv2d(128, 256, kernel_size=(3, 3), stride=(1, 1), padding=(1, 1))\n",
            "    (11): ReLU(inplace=True)\n",
            "    (12): Conv2d(256, 256, kernel_size=(3, 3), stride=(1, 1), padding=(1, 1))\n",
            "    (13): ReLU(inplace=True)\n",
            "    (14): Conv2d(256, 256, kernel_size=(3, 3), stride=(1, 1), padding=(1, 1))\n",
            "    (15): ReLU(inplace=True)\n",
            "    (16): MaxPool2d(kernel_size=2, stride=2, padding=0, dilation=1, ceil_mode=False)\n",
            "    (17): Conv2d(256, 512, kernel_size=(3, 3), stride=(1, 1), padding=(1, 1))\n",
            "    (18): ReLU(inplace=True)\n",
            "    (19): Conv2d(512, 512, kernel_size=(3, 3), stride=(1, 1), padding=(1, 1))\n",
            "    (20): ReLU(inplace=True)\n",
            "    (21): Conv2d(512, 512, kernel_size=(3, 3), stride=(1, 1), padding=(1, 1))\n",
            "    (22): ReLU(inplace=True)\n",
            "    (23): MaxPool2d(kernel_size=2, stride=2, padding=0, dilation=1, ceil_mode=False)\n",
            "    (24): Conv2d(512, 512, kernel_size=(3, 3), stride=(1, 1), padding=(1, 1))\n",
            "    (25): ReLU(inplace=True)\n",
            "    (26): Conv2d(512, 512, kernel_size=(3, 3), stride=(1, 1), padding=(1, 1))\n",
            "    (27): ReLU(inplace=True)\n",
            "    (28): Conv2d(512, 512, kernel_size=(3, 3), stride=(1, 1), padding=(1, 1))\n",
            "    (29): ReLU(inplace=True)\n",
            "    (30): MaxPool2d(kernel_size=2, stride=2, padding=0, dilation=1, ceil_mode=False)\n",
            "  )\n",
            "  (avgpool): AdaptiveAvgPool2d(output_size=(7, 7))\n",
            "  (classifier): Sequential(\n",
            "    (0): Linear(in_features=25088, out_features=4096, bias=True)\n",
            "    (1): ReLU(inplace=True)\n",
            "    (2): Dropout(p=0.5, inplace=False)\n",
            "    (3): Linear(in_features=4096, out_features=4096, bias=True)\n",
            "    (4): ReLU(inplace=True)\n",
            "    (5): Dropout(p=0.5, inplace=False)\n",
            "    (6): Linear(in_features=4096, out_features=1000, bias=True)\n",
            "  )\n",
            ")\n"
          ],
          "name": "stdout"
        }
      ]
    },
    {
      "cell_type": "code",
      "metadata": {
        "id": "Z1Y_GKTbdbBw",
        "colab_type": "code",
        "colab": {}
      },
      "source": [
        "vgg16_classifier = nn.Sequential(nn.Linear(25088,300),\n",
        "                            nn.ReLU(),\n",
        "                            nn.Dropout(p=0.5),\n",
        "                            nn.Linear(300,80),\n",
        "                            nn.ReLU(),\n",
        "                            nn.Dropout(p=0.5),\n",
        "                            nn.Linear(80,3)\n",
        "                            # nn.Sigmoid()\n",
        "                            )\n",
        "vgg16.classifier = vgg16_classifier"
      ],
      "execution_count": 0,
      "outputs": []
    },
    {
      "cell_type": "code",
      "metadata": {
        "id": "lFBhG-HBhXtu",
        "colab_type": "code",
        "colab": {}
      },
      "source": [
        "vgg_optimizer = optim.SGD(vgg16.parameters(), lr=0.001, momentum=0.9)\n",
        "criterion = nn.BCEWithLogitsLoss()\n",
        "custom_focal_loss = focal_loss_predefined"
      ],
      "execution_count": 0,
      "outputs": []
    },
    {
      "cell_type": "markdown",
      "metadata": {
        "id": "zPSvcrqHzqwC",
        "colab_type": "text"
      },
      "source": [
        "## Train"
      ]
    },
    {
      "cell_type": "code",
      "metadata": {
        "id": "DeVNgrNzlc6s",
        "colab_type": "code",
        "colab": {}
      },
      "source": [
        "vgg_train_loss, vgg_train_acc, vgg_valid_loss, vgg_valid_acc = train(vgg16,trainloader,vgg_optimizer,criterion,20,validloader,weights_dir+\"vgg16_focal_loss.pth\",\n",
        "                                                  batch_info=False,dot_after_batch=5,asterik_after_batch=10)"
      ],
      "execution_count": 0,
      "outputs": []
    },
    {
      "cell_type": "code",
      "metadata": {
        "id": "B2ZPJzhFoK8w",
        "colab_type": "code",
        "outputId": "bb707bb2-2865-4a66-c53e-376fcc18727f",
        "colab": {
          "base_uri": "https://localhost:8080/",
          "height": 293
        }
      },
      "source": [
        "plt.plot(vgg_train_loss,label = 'Train')\n",
        "plt.plot(vgg_valid_loss,label = 'Valid')\n",
        "plt.xlim([0,20])\n",
        "plt.ylim([0,1])\n",
        "plt.title(\"Loss Curve\")\n",
        "plt.legend()\n",
        "plt.show()"
      ],
      "execution_count": 0,
      "outputs": [
        {
          "output_type": "display_data",
          "data": {
            "image/png": "[encoded data removed]",
            "text/plain": [
              "<Figure size 432x288 with 1 Axes>"
            ]
          },
          "metadata": {
            "tags": []
          }
        }
      ]
    },
    {
      "cell_type": "code",
      "metadata": {
        "id": "l5eNvmLtoMci",
        "colab_type": "code",
        "outputId": "02f58163-5faf-480e-e41a-b57072009335",
        "colab": {
          "base_uri": "https://localhost:8080/",
          "height": 293
        }
      },
      "source": [
        "plt.plot(vgg_train_acc,label = 'Train')\n",
        "plt.plot(vgg_valid_acc,label = 'Valid')\n",
        "plt.xlim([0,20])\n",
        "plt.ylim([0,100])\n",
        "plt.title(\"Accuracy Curve\")\n",
        "plt.legend()\n",
        "plt.show()"
      ],
      "execution_count": 0,
      "outputs": [
        {
          "output_type": "display_data",
          "data": {
            "image/png": "[encoded data removed]",
            "text/plain": [
              "<Figure size 432x288 with 1 Axes>"
            ]
          },
          "metadata": {
            "tags": []
          }
        }
      ]
    },
    {
      "cell_type": "markdown",
      "metadata": {
        "id": "wWGqqB4lupVP",
        "colab_type": "text"
      },
      "source": [
        "# accuracy,f1 score and confusion matrix"
      ]
    },
    {
      "cell_type": "code",
      "metadata": {
        "id": "LEtiy94Auoyy",
        "colab_type": "code",
        "outputId": "4bb2def4-acbd-41fe-ecc5-11f0cc6047a2",
        "colab": {
          "base_uri": "https://localhost:8080/",
          "height": 879
        }
      },
      "source": [
        "train_labels,train_prediction = predict(vgg16,trainloader,device)\n",
        "train_accuracy = calc_accuracy(train_prediction,train_labels)\n",
        "train_f1 = calc_f1_score(train_prediction,train_labels)\n",
        "train_confusion = multilabel_confusion_matrix(train_prediction,train_labels)\n",
        "print(f\"Train accuracy {train_accuracy}\")\n",
        "print(f\"Train f1 score {train_f1}\")\n",
        "plot_confusion_matrix(train_confusion[0],title = 'Covid confusion matrix')\n",
        "plot_confusion_matrix(train_confusion[1],title = 'Normal confusion matrix')\n",
        "plot_confusion_matrix(train_confusion[2],title = 'Pneumonia confusion matrix')"
      ],
      "execution_count": 0,
      "outputs": [
        {
          "output_type": "stream",
          "text": [
            "Train accuracy 92.48387096774194\n",
            "Train f1 score 89.2742059229707\n"
          ],
          "name": "stdout"
        },
        {
          "output_type": "display_data",
          "data": {
            "image/png": "[encoded data removed]",
            "text/plain": [
              "<Figure size 432x288 with 2 Axes>"
            ]
          },
          "metadata": {
            "tags": []
          }
        },
        {
          "output_type": "display_data",
          "data": {
            "image/png": "[encoded data removed]",
            "text/plain": [
              "<Figure size 432x288 with 2 Axes>"
            ]
          },
          "metadata": {
            "tags": []
          }
        },
        {
          "output_type": "display_data",
          "data": {
            "image/png": "[encoded data removed]",
            "text/plain": [
              "<Figure size 432x288 with 2 Axes>"
            ]
          },
          "metadata": {
            "tags": []
          }
        }
      ]
    },
    {
      "cell_type": "code",
      "metadata": {
        "id": "eiyet0MExugP",
        "colab_type": "code",
        "outputId": "a7519991-4b3f-4432-e52b-5ea87f5bc46a",
        "colab": {
          "base_uri": "https://localhost:8080/",
          "height": 879
        }
      },
      "source": [
        "valid_labels,valid_prediction = predict(vgg16,validloader,device)\n",
        "valid_accuracy = calc_accuracy(valid_prediction,valid_labels)\n",
        "valid_f1 = calc_f1_score(valid_prediction,valid_labels)\n",
        "valid_confusion = multilabel_confusion_matrix(valid_prediction,valid_labels)\n",
        "print(f\"valid accuracy {valid_accuracy}\")\n",
        "print(f\"valid f1 score {valid_f1}\")\n",
        "plot_confusion_matrix(valid_confusion[0],title = 'Covid confusion matrix')\n",
        "plot_confusion_matrix(valid_confusion[1],title = 'Normal confusion matrix')\n",
        "plot_confusion_matrix(valid_confusion[2],title = 'Pneumonia confusion matrix')"
      ],
      "execution_count": 0,
      "outputs": [
        {
          "output_type": "stream",
          "text": [
            "valid accuracy 92.67515923566879\n",
            "valid f1 score 89.63963963963964\n"
          ],
          "name": "stdout"
        },
        {
          "output_type": "display_data",
          "data": {
            "image/png": "[encoded data removed]",
            "text/plain": [
              "<Figure size 432x288 with 2 Axes>"
            ]
          },
          "metadata": {
            "tags": []
          }
        },
        {
          "output_type": "display_data",
          "data": {
            "image/png": "[encoded data removed]",
            "text/plain": [
              "<Figure size 432x288 with 2 Axes>"
            ]
          },
          "metadata": {
            "tags": []
          }
        },
        {
          "output_type": "display_data",
          "data": {
            "image/png": "[encoded data removed]",
            "text/plain": [
              "<Figure size 432x288 with 2 Axes>"
            ]
          },
          "metadata": {
            "tags": []
          }
        }
      ]
    },
    {
      "cell_type": "markdown",
      "metadata": {
        "id": "yGjkLSZ4V17C",
        "colab_type": "text"
      },
      "source": [
        "# Resnet"
      ]
    },
    {
      "cell_type": "code",
      "metadata": {
        "id": "azegLAOCV3rk",
        "colab_type": "code",
        "colab": {}
      },
      "source": [
        "resnet18 = models.resnet18(pretrained=True)\n"
      ],
      "execution_count": 0,
      "outputs": []
    },
    {
      "cell_type": "code",
      "metadata": {
        "id": "PEvCS7mVWFAf",
        "colab_type": "code",
        "colab": {}
      },
      "source": [
        "resnet18_fc = nn.Sequential(nn.Linear(512,200),\n",
        "                            nn.ReLU(),\n",
        "                            nn.Dropout(p=0.5),\n",
        "                            nn.Linear(200,50),\n",
        "                            nn.ReLU(),\n",
        "                            nn.Dropout(p=0.5),\n",
        "                            # nn.Linear(1024,512),\n",
        "                            # nn.ReLU(),\n",
        "                            # nn.Dropout(p=0.5),\n",
        "                            nn.Linear(50,3),\n",
        "                            nn.Sigmoid()\n",
        "                            )\n",
        "resnet18.fc = resnet18_fc"
      ],
      "execution_count": 0,
      "outputs": []
    },
    {
      "cell_type": "code",
      "metadata": {
        "id": "n2dzW5IHWWvx",
        "colab_type": "code",
        "colab": {}
      },
      "source": [
        "resnet_optimizer = optim.SGD(resnet18.parameters(), lr=0.001, momentum=0.9)\n",
        "criterion = nn.BCEWithLogitsLoss()\n",
        "custom_alpha_balanced_loss = focal_loss\n",
        "custom_alpha_balanced_loss_pre = focal_loss_predefined"
      ],
      "execution_count": 0,
      "outputs": []
    },
    {
      "cell_type": "markdown",
      "metadata": {
        "id": "28bjJogkWi-q",
        "colab_type": "text"
      },
      "source": [
        "## Train"
      ]
    },
    {
      "cell_type": "code",
      "metadata": {
        "id": "UwpUNRBJWee5",
        "colab_type": "code",
        "outputId": "5f856eba-7dff-491a-959f-b49465033b90",
        "colab": {
          "base_uri": "https://localhost:8080/",
          "height": 714
        }
      },
      "source": [
        "resnet_train_loss, resnet_train_acc, resnet_valid_loss, resnet_valid_acc = train(resnet18,trainloader,resnet_optimizer,custom_alpha_balanced_loss_pre,20,validloader,\n",
        "                                                                                  weight_save_path=weights_dir+\"res18_focal_loss.pth’\",\n",
        "                                                  batch_info=False,dot_after_batch=5,asterik_after_batch=10)\n",
        "\n",
        "# resnet_train_loss, resnet_train_acc, resnet_valid_loss, resnet_valid_acc = train(resnet18,trainloader,resnet_optimizer,custom_alpha_balanced_loss,20,validloader,\n",
        "#                                                                                  weights_dir+\"resnet_custom_alpha_balanced_focal_loss.pth\",\n",
        "#                                                   batch_info=False,dot_after_batch=5,asterik_after_batch=10)\n",
        "# vgg_train_loss, vgg_train_acc, vgg_valid_loss, vgg_valid_acc = train(vgg16,validloader,vgg_optimizer,criterion,10,valid_loader = None, weight_save_path=None ,\n",
        "#                                                   batch_info=False,dot_after_batch=5,asterik_after_batch=10)"
      ],
      "execution_count": 34,
      "outputs": [
        {
          "output_type": "stream",
          "text": [
            "\n",
            "Epoch: 0 train_loss:0.0975   train_acc:70.557   valid_loss:0.0536   valid_acc:74.515 time-taken:1.341m\n",
            "\n",
            "Epoch: 1 train_loss:0.0543   train_acc:74.116   valid_loss:0.0507   valid_acc:74.535 time-taken:1.336m\n",
            "\n",
            "Epoch: 2 train_loss:0.0489   train_acc:75.509   valid_loss:0.0467   valid_acc:74.900 time-taken:1.329m\n",
            "\n",
            "Epoch: 3 train_loss:0.0463   train_acc:77.317   valid_loss:0.0450   valid_acc:75.773 time-taken:1.325m\n",
            "\n",
            "Epoch: 4 train_loss:0.0439   train_acc:78.690   valid_loss:0.0420   valid_acc:78.666 time-taken:1.325m\n",
            "\n",
            "Epoch: 5 train_loss:0.0400   train_acc:80.837   valid_loss:0.0415   valid_acc:82.845 time-taken:1.333m\n",
            "\n",
            "Epoch: 6 train_loss:0.0386   train_acc:81.419   valid_loss:0.0370   valid_acc:88.654 time-taken:1.320m\n",
            "\n",
            "Epoch: 7 train_loss:0.0381   train_acc:83.099   valid_loss:0.0390   valid_acc:89.792 time-taken:1.323m\n",
            "\n",
            "Epoch: 8 train_loss:0.0361   train_acc:84.093   valid_loss:0.0365   valid_acc:90.869 time-taken:1.322m\n",
            "\n",
            "Epoch: 9 train_loss:0.0352   train_acc:85.437   valid_loss:0.0340   valid_acc:91.538 time-taken:1.321m\n",
            "\n",
            "Epoch: 10 train_loss:0.0337   train_acc:85.900   valid_loss:0.0358   valid_acc:92.292 time-taken:1.308m\n",
            "\n",
            "Epoch: 11 train_loss:0.0331   train_acc:86.833   valid_loss:0.0336   valid_acc:92.396 time-taken:1.309m\n",
            "\n",
            "Epoch: 12 train_loss:0.0324   train_acc:87.406   valid_loss:0.0337   valid_acc:92.312 time-taken:1.309m\n",
            "\n",
            "Epoch: 13 train_loss:0.0306   train_acc:87.847   valid_loss:0.0331   valid_acc:92.640 time-taken:1.311m\n",
            "\n",
            "Epoch: 14 train_loss:0.0317   train_acc:88.593   valid_loss:0.0290   valid_acc:92.957 time-taken:1.304m\n",
            "\n",
            "Epoch: 15 train_loss:0.0287   train_acc:89.521   valid_loss:0.0305   valid_acc:93.217 time-taken:1.316m\n",
            "\n",
            "Epoch: 16 train_loss:0.0295   train_acc:89.362   valid_loss:0.0301   valid_acc:93.413 time-taken:1.356m\n",
            "\n",
            "Epoch: 17 train_loss:0.0277   train_acc:89.991   valid_loss:0.0269   valid_acc:93.698 time-taken:1.323m\n",
            "\n",
            "Epoch: 18 train_loss:0.0268   train_acc:90.262   valid_loss:0.0267   valid_acc:93.798 time-taken:1.325m\n",
            "\n",
            "Epoch: 19 train_loss:0.0271   train_acc:90.133   valid_loss:0.0287   valid_acc:93.450 time-taken:1.315m\n",
            "Finished Training\n"
          ],
          "name": "stdout"
        }
      ]
    },
    {
      "cell_type": "code",
      "metadata": {
        "id": "L5TP0KJ9i1wt",
        "colab_type": "code",
        "colab": {
          "base_uri": "https://localhost:8080/",
          "height": 293
        },
        "outputId": "bd139fd0-484f-4a85-9a30-ef9bed31d84e"
      },
      "source": [
        "plt.plot(resnet_train_loss,label = 'Train')\n",
        "plt.plot(resnet_valid_loss,label = 'Valid')\n",
        "plt.xlim([0,20])\n",
        "plt.ylim([0,1])\n",
        "plt.title(\"Loss Curve\")\n",
        "plt.legend()\n",
        "plt.show()"
      ],
      "execution_count": 35,
      "outputs": [
        {
          "output_type": "display_data",
          "data": {
            "image/png": "[encoded data removed]",
            "text/plain": [
              "<Figure size 432x288 with 1 Axes>"
            ]
          },
          "metadata": {
            "tags": []
          }
        }
      ]
    },
    {
      "cell_type": "code",
      "metadata": {
        "id": "i4ivAdNFi6Vb",
        "colab_type": "code",
        "colab": {
          "base_uri": "https://localhost:8080/",
          "height": 293
        },
        "outputId": "52e614c3-1d21-4394-9af2-c1f14708b132"
      },
      "source": [
        "plt.plot(resnet_train_acc,label = 'Train')\n",
        "plt.plot(resnet_valid_acc,label = 'Valid')\n",
        "plt.xlim([0,20])\n",
        "plt.ylim([0,100])\n",
        "plt.title(\"Accuracy Curve\")\n",
        "plt.legend()\n",
        "plt.show()"
      ],
      "execution_count": 36,
      "outputs": [
        {
          "output_type": "display_data",
          "data": {
            "image/png": "[encoded data removed]",
            "text/plain": [
              "<Figure size 432x288 with 1 Axes>"
            ]
          },
          "metadata": {
            "tags": []
          }
        }
      ]
    },
    {
      "cell_type": "markdown",
      "metadata": {
        "id": "oX868WCABV_y",
        "colab_type": "text"
      },
      "source": [
        "# Accuracy, F1 and confusion"
      ]
    },
    {
      "cell_type": "code",
      "metadata": {
        "id": "DjEqIfCLAjIo",
        "colab_type": "code",
        "colab": {
          "base_uri": "https://localhost:8080/",
          "height": 879
        },
        "outputId": "2bec78e6-fa68-436b-b4cb-a02c6f90e1f9"
      },
      "source": [
        "train_labels,train_prediction = predict(resnet18,trainloader,device)\n",
        "train_accuracy = calc_accuracy(train_prediction,train_labels)\n",
        "train_f1 = calc_f1_score(train_prediction,train_labels)\n",
        "train_confusion = multilabel_confusion_matrix(train_prediction,train_labels)\n",
        "print(f\"Train accuracy {train_accuracy}\")\n",
        "print(f\"Train f1 score {train_f1}\")\n",
        "plot_confusion_matrix(train_confusion[0],title = 'Covid confusion matrix')\n",
        "plot_confusion_matrix(train_confusion[1],title = 'Normal confusion matrix')\n",
        "plot_confusion_matrix(train_confusion[2],title = 'Pneumonia confusion matrix')"
      ],
      "execution_count": 42,
      "outputs": [
        {
          "output_type": "stream",
          "text": [
            "Train accuracy 93.7741935483871\n",
            "Train f1 score 90.82117945466076\n"
          ],
          "name": "stdout"
        },
        {
          "output_type": "display_data",
          "data": {
            "image/png": "[encoded data removed]",
            "text/plain": [
              "<Figure size 432x288 with 2 Axes>"
            ]
          },
          "metadata": {
            "tags": []
          }
        },
        {
          "output_type": "display_data",
          "data": {
            "image/png": "[encoded data removed]",
            "text/plain": [
              "<Figure size 432x288 with 2 Axes>"
            ]
          },
          "metadata": {
            "tags": []
          }
        },
        {
          "output_type": "display_data",
          "data": {
            "image/png": "[encoded data removed]",
            "text/plain": [
              "<Figure size 432x288 with 2 Axes>"
            ]
          },
          "metadata": {
            "tags": []
          }
        }
      ]
    },
    {
      "cell_type": "code",
      "metadata": {
        "id": "6ByfGKjheSxw",
        "colab_type": "code",
        "colab": {
          "base_uri": "https://localhost:8080/",
          "height": 879
        },
        "outputId": "bea36553-364d-43f0-b33d-a2310cc9e0fa"
      },
      "source": [
        "valid_labels,valid_prediction = predict(resnet18,validloader,device)\n",
        "valid_accuracy = calc_accuracy(valid_prediction,valid_labels)\n",
        "valid_f1 = calc_f1_score(valid_prediction,valid_labels)\n",
        "valid_confusion = multilabel_confusion_matrix(valid_prediction,valid_labels)\n",
        "print(f\"valid accuracy {valid_accuracy}\")\n",
        "print(f\"valid f1 score {valid_f1}\")\n",
        "plot_confusion_matrix(valid_confusion[0],title = 'Covid confusion matrix')\n",
        "plot_confusion_matrix(valid_confusion[1],title = 'Normal confusion matrix')\n",
        "plot_confusion_matrix(valid_confusion[2],title = 'Pneumonia confusion matrix')"
      ],
      "execution_count": 44,
      "outputs": [
        {
          "output_type": "stream",
          "text": [
            "valid accuracy 93.78980891719745\n",
            "valid f1 score 90.92319627618309\n"
          ],
          "name": "stdout"
        },
        {
          "output_type": "display_data",
          "data": {
            "image/png": "[encoded data removed]",
            "text/plain": [
              "<Figure size 432x288 with 2 Axes>"
            ]
          },
          "metadata": {
            "tags": []
          }
        },
        {
          "output_type": "display_data",
          "data": {
            "image/png": "[encoded data removed]",
            "text/plain": [
              "<Figure size 432x288 with 2 Axes>"
            ]
          },
          "metadata": {
            "tags": []
          }
        },
        {
          "output_type": "display_data",
          "data": {
            "image/png": "[encoded data removed]",
            "text/plain": [
              "<Figure size 432x288 with 2 Axes>"
            ]
          },
          "metadata": {
            "tags": []
          }
        }
      ]
    },
    {
      "cell_type": "markdown",
      "metadata": {
        "id": "1p7uM-5Mlc1d",
        "colab_type": "text"
      },
      "source": [
        "# Predict test samples"
      ]
    },
    {
      "cell_type": "code",
      "metadata": {
        "id": "XzhBRqIQmhVF",
        "colab_type": "code",
        "colab": {}
      },
      "source": [
        "vgg16 = models.vgg16(pretrained=True)\n",
        "# print(vgg16)\n",
        "vgg16_classifier = nn.Sequential(nn.Linear(25088,300),\n",
        "                            nn.ReLU(),\n",
        "                            nn.Dropout(p=0.5),\n",
        "                            nn.Linear(300,80),\n",
        "                            nn.ReLU(),\n",
        "                            nn.Dropout(p=0.5),\n",
        "                            nn.Linear(80,3)\n",
        "                            # nn.Sigmoid()\n",
        "                            )\n",
        "vgg16.classifier = vgg16_classifier\n"
      ],
      "execution_count": 0,
      "outputs": []
    },
    {
      "cell_type": "code",
      "metadata": {
        "id": "oDJCqtKdr0Oq",
        "colab_type": "code",
        "colab": {
          "base_uri": "https://localhost:8080/",
          "height": 34
        },
        "outputId": "1670db51-308a-4da8-dfad-ec2413f457a9"
      },
      "source": [
        "vgg16.load_state_dict(torch.load(weights_dir+\"vgg16_custom_focal_loss_alpha_balanced_300_80_after_20.pth\"))"
      ],
      "execution_count": 76,
      "outputs": [
        {
          "output_type": "execute_result",
          "data": {
            "text/plain": [
              "<All keys matched successfully>"
            ]
          },
          "metadata": {
            "tags": []
          },
          "execution_count": 76
        }
      ]
    },
    {
      "cell_type": "code",
      "metadata": {
        "id": "cDtTMJVZlcQi",
        "colab_type": "code",
        "colab": {}
      },
      "source": [
        "np_test_imgs = np.array(test_imgs)\n",
        "# test_img_labels \n",
        "np_test_imgs = np_test_imgs/255\n",
        "np_test_imgs = (np_test_imgs- 0.494)/0.2548"
      ],
      "execution_count": 0,
      "outputs": []
    },
    {
      "cell_type": "code",
      "metadata": {
        "id": "8kEhrz4rmDze",
        "colab_type": "code",
        "colab": {
          "base_uri": "https://localhost:8080/",
          "height": 187
        },
        "outputId": "6e2afc2a-146b-4e6b-dd0a-8352500a8465"
      },
      "source": [
        "model_predictions = np.zeros((629,3))\n",
        "batch_size = 64\n",
        "batch_start_idx = np.arange(0,629,batch_size)\n",
        "vgg16.to(device)\n",
        "vgg16.eval()\n",
        "with torch.no_grad():\n",
        "  for i,start_idx in enumerate(batch_start_idx):\n",
        "    if i == len(batch_start_idx)-1:\n",
        "      end_idx = 628\n",
        "    else:\n",
        "      end_idx = start_idx + batch_size\n",
        "    \n",
        "    imgs = np_test_imgs[start_idx:end_idx]\n",
        "    print(imgs.shape)\n",
        "    imgs = torch.tensor(imgs).float().to(device)\n",
        "    \n",
        "    outputs = vgg16(imgs)\n",
        "    outputs[outputs >= 0.5 ] =1\n",
        "    outputs[outputs < 0.5 ] =0\n",
        "    model_predictions[start_idx:end_idx] = outputs.cpu().data.numpy()"
      ],
      "execution_count": 77,
      "outputs": [
        {
          "output_type": "stream",
          "text": [
            "(64, 3, 256, 256)\n",
            "(64, 3, 256, 256)\n",
            "(64, 3, 256, 256)\n",
            "(64, 3, 256, 256)\n",
            "(64, 3, 256, 256)\n",
            "(64, 3, 256, 256)\n",
            "(64, 3, 256, 256)\n",
            "(64, 3, 256, 256)\n",
            "(64, 3, 256, 256)\n",
            "(52, 3, 256, 256)\n"
          ],
          "name": "stdout"
        }
      ]
    },
    {
      "cell_type": "code",
      "metadata": {
        "id": "sOTPTNfYvhbk",
        "colab_type": "code",
        "colab": {}
      },
      "source": [
        "for i,p in enumerate(model_predictions):\n",
        "  print(f\"{i}:{p}\")\n"
      ],
      "execution_count": 0,
      "outputs": []
    },
    {
      "cell_type": "code",
      "metadata": {
        "id": "N1hVNm2zvuX6",
        "colab_type": "code",
        "colab": {}
      },
      "source": [
        "import csv\n",
        "filename = \"Results.csv\"\n",
        "with open(filename, 'w') as csvfile:  \n",
        "    \n",
        "    csvwriter = csv.writer(csvfile)  \n",
        "    for i,name in enumerate(test_img_labels):\n",
        "\n",
        "     \n",
        "      csvwriter.writerow([name,model_predictions[i][0],model_predictions[i][2],model_predictions[i][1]])  \n",
        "        "
      ],
      "execution_count": 0,
      "outputs": []
    }
  ]
}